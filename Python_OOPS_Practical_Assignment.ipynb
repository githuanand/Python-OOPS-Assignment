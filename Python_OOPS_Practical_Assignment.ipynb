{
  "nbformat": 4,
  "nbformat_minor": 0,
  "metadata": {
    "colab": {
      "private_outputs": true,
      "provenance": []
    },
    "kernelspec": {
      "name": "python3",
      "display_name": "Python 3"
    },
    "language_info": {
      "name": "python"
    }
  },
  "cells": [
    {
      "cell_type": "markdown",
      "source": [
        "1. Create a parent class Animal with a method speak() that prints a generic message. Create a child class Dog\n",
        "that overrides the speak() method to print \"Bark!\".\n",
        "\n",
        "\n",
        "2. Write a program to create an abstract class Shape with a method area(). Derive classes Circle and Rectangle\n",
        "from it and implement the area() method in both.\n",
        "\n",
        "\n",
        "3. Implement a multi-level inheritance scenario where a class Vehicle has an attribute type. Derive a class Car\n",
        "and further derive a class ElectricCar that adds a battery attribute.\n",
        "\n",
        "\n",
        "4. Implement a multi-level inheritance scenario where a class Vehicle has an attribute type. Derive a class Car\n",
        "and further derive a class ElectricCar that adds a battery attribute.\n",
        "\n",
        "\n",
        "5. Write a program to demonstrate encapsulation by creating a class BankAccount with private attributes\n",
        "balance and methods to deposit, withdraw, and check balance.\n",
        "\n",
        "\n",
        "6. Demonstrate runtime polymorphism using a method play() in a base class Instrument. Derive classes Guitar\n",
        "and Piano that implement their own version of play().\n",
        "\n",
        "\n",
        "7. Create a class MathOperations with a class method add_numbers() to add two numbers and a static\n",
        "method subtract_numbers() to subtract two numbers."
      ],
      "metadata": {
        "id": "IsWzNZ1HPRNU"
      }
    },
    {
      "cell_type": "code",
      "source": [
        "# 1. Parent Class Animal with Overridden Method in Dog Class\n",
        "# Parent Class\n",
        "class Animal:\n",
        "    def speak(self):\n",
        "        print(\"This animal makes a sound.\")\n",
        "\n",
        "# Child Class\n",
        "class Dog(Animal):\n",
        "    def speak(self):\n",
        "        print(\"Bark!\")\n",
        "\n",
        "# Test the classes\n",
        "animal = Animal()\n",
        "animal.speak()\n",
        "\n",
        "dog = Dog()\n",
        "dog.speak()\n"
      ],
      "metadata": {
        "id": "tojEX7iRPjyy"
      },
      "execution_count": null,
      "outputs": []
    },
    {
      "cell_type": "code",
      "source": [
        "# 2. Abstract Class Shape and Derived Classes Circle and Rectangle\n",
        "from abc import ABC, abstractmethod\n",
        "import math\n",
        "\n",
        "# Abstract Class\n",
        "class Shape(ABC):\n",
        "    @abstractmethod\n",
        "    def area(self):\n",
        "        pass\n",
        "\n",
        "# Derived Class: Circle\n",
        "class Circle(Shape):\n",
        "    def __init__(self, radius):\n",
        "        self.radius = radius\n",
        "\n",
        "    def area(self):\n",
        "        return math.pi * self.radius ** 2\n",
        "\n",
        "# Derived Class: Rectangle\n",
        "class Rectangle(Shape):\n",
        "    def __init__(self, width, height):\n",
        "        self.width = width\n",
        "        self.height = height\n",
        "\n",
        "    def area(self):\n",
        "        return self.width * self.height\n",
        "\n",
        "# Test the classes\n",
        "circle = Circle(5)\n",
        "print(\"Circle Area:\", circle.area())\n",
        "\n",
        "rectangle = Rectangle(4, 6)\n",
        "print(\"Rectangle Area:\", rectangle.area())\n",
        "\n"
      ],
      "metadata": {
        "id": "xRK74A9UPlbf"
      },
      "execution_count": null,
      "outputs": []
    },
    {
      "cell_type": "code",
      "source": [
        "# 3 and 4 Multi-Level Inheritance: Vehicle -> Car -> ElectricCar\n",
        "# Base Class: Vehicle\n",
        "class Vehicle:\n",
        "    def __init__(self, type):\n",
        "        self.type = type\n",
        "\n",
        "# Derived Class: Car\n",
        "class Car(Vehicle):\n",
        "    def __init__(self, type, brand):\n",
        "        super().__init__(type)\n",
        "        self.brand = brand\n",
        "\n",
        "# Further Derived Class: ElectricCar\n",
        "class ElectricCar(Car):\n",
        "    def __init__(self, type, brand, battery):\n",
        "        super().__init__(type, brand)\n",
        "        self.battery = battery\n",
        "\n",
        "# Test the classes\n",
        "electric_car = ElectricCar(\"Electric\", \"Tesla\", \"100 kWh\")\n",
        "print(f\"Vehicle Type: {electric_car.type}\")\n",
        "print(f\"Car Brand: {electric_car.brand}\")\n",
        "print(f\"Battery Capacity: {electric_car.battery}\")\n",
        "\n",
        "\n"
      ],
      "metadata": {
        "id": "sO4orQvuPxPq"
      },
      "execution_count": null,
      "outputs": []
    },
    {
      "cell_type": "code",
      "source": [
        "# 5. Encapsulation in BankAccount Class\n",
        "\n",
        "# Class with Encapsulation\n",
        "class BankAccount:\n",
        "    def __init__(self, balance):\n",
        "        self.__balance = balance  # Private attribute\n",
        "\n",
        "    def deposit(self, amount):\n",
        "        if amount > 0:\n",
        "            self.__balance += amount\n",
        "            print(f\"Deposited: ${amount}\")\n",
        "        else:\n",
        "            print(\"Deposit amount must be positive.\")\n",
        "\n",
        "    def withdraw(self, amount):\n",
        "        if amount > 0 and self.__balance >= amount:\n",
        "            self.__balance -= amount\n",
        "            print(f\"Withdrew: ${amount}\")\n",
        "        else:\n",
        "            print(\"Invalid withdrawal amount or insufficient funds.\")\n",
        "\n",
        "    def check_balance(self):\n",
        "        print(f\"Balance: ${self.__balance}\")\n",
        "\n",
        "# Test the class\n",
        "account = BankAccount(1000)\n",
        "account.deposit(500)\n",
        "account.withdraw(300)\n",
        "account.check_balance()\n"
      ],
      "metadata": {
        "id": "aRRPDqVZQTJT"
      },
      "execution_count": null,
      "outputs": []
    },
    {
      "cell_type": "code",
      "source": [
        "# 6. Runtime Polymorphism with play() Method\n",
        "\n",
        "# Base Class\n",
        "class Instrument:\n",
        "    def play(self):\n",
        "        print(\"Playing instrument.\")\n",
        "\n",
        "# Derived Class: Guitar\n",
        "class Guitar(Instrument):\n",
        "    def play(self):\n",
        "        print(\"Strumming guitar.\")\n",
        "\n",
        "# Derived Class: Piano\n",
        "class Piano(Instrument):\n",
        "    def play(self):\n",
        "        print(\"Playing piano keys.\")\n",
        "\n",
        "# Test the classes\n",
        "instrument = Instrument()\n",
        "instrument.play()\n",
        "\n",
        "guitar = Guitar()\n",
        "guitar.play()\n",
        "\n",
        "piano = Piano()\n",
        "piano.play()\n"
      ],
      "metadata": {
        "id": "dxcr8MmQQdU2"
      },
      "execution_count": null,
      "outputs": []
    },
    {
      "cell_type": "code",
      "source": [
        "# 7. MathOperations with Class Method and Static Method\n",
        "\n",
        "class MathOperations:\n",
        "    @classmethod\n",
        "    def add_numbers(cls, a, b):\n",
        "        return a + b\n",
        "\n",
        "    @staticmethod\n",
        "    def subtract_numbers(a, b):\n",
        "        return a - b\n",
        "\n",
        "# Test the methods\n",
        "sum_result = MathOperations.add_numbers(10, 5)\n",
        "print(\"Sum:\", sum_result)\n",
        "\n",
        "diff_result = MathOperations.subtract_numbers(10, 5)\n",
        "print(\"Difference:\", diff_result)\n"
      ],
      "metadata": {
        "id": "h6AJ9NNnQhfg"
      },
      "execution_count": null,
      "outputs": []
    },
    {
      "cell_type": "markdown",
      "source": [
        "8. Implement a class Person with a class method to count the total number of persons created.\n",
        "\n",
        "\n",
        "9. Write a class Fraction with attributes numerator and denominator. Override the str method to display the\n",
        "fraction as \"numerator/denominator\".\n",
        "\n",
        "\n",
        "10. Demonstrate operator overloading by creating a class Vector and overriding the add method to add two\n",
        "vectors.\n",
        "\n",
        "\n",
        "11. Create a class Person with attributes name and age. Add a method greet() that prints \"Hello, my name is\n",
        "{name} and I am {age} years old.\"\n",
        "\n",
        "\n",
        "12. Implement a class Student with attributes name and grades. Create a method average_grade() to compute\n",
        "the average of the grades.\n",
        "\n",
        "\n",
        "13. Create a class Rectangle with methods set_dimensions() to set the dimensions and area() to calculate the\n",
        "area.\n",
        "\n",
        "\n",
        "14. Create a class Employee with a method calculate_salary() that computes the salary based on hours worked\n",
        "and hourly rate. Create a derived class Manager that adds a bonus to the salary"
      ],
      "metadata": {
        "id": "yIjNjy-rQpL6"
      }
    },
    {
      "cell_type": "code",
      "source": [
        "# 8. Person Class with Class Method to Count Total Persons Created\n",
        "\n",
        "class Person:\n",
        "    # Class variable to count number of persons\n",
        "    total_persons = 0\n",
        "\n",
        "    def __init__(self, name, age):\n",
        "        self.name = name\n",
        "        self.age = age\n",
        "        # Increment the total_persons count whenever a new person is created\n",
        "        Person.total_persons += 1\n",
        "\n",
        "    # Class method to get the total number of persons created\n",
        "    @classmethod\n",
        "    def count_persons(cls):\n",
        "        return cls.total_persons\n",
        "\n",
        "# Test the class\n",
        "person1 = Person(\"Anand\", 23)\n",
        "person2 = Person(\"Mohan\", 24)\n",
        "person3 = Person(\"Jaya\", 21)\n",
        "\n",
        "print(\"Total Persons Created:\", Person.count_persons())\n"
      ],
      "metadata": {
        "id": "2bhF4ztxQuHB"
      },
      "execution_count": null,
      "outputs": []
    },
    {
      "cell_type": "code",
      "source": [
        "# 9. Fraction Class with `__str__` Method to Display Fraction\n",
        "\n",
        "class Fraction:\n",
        "    def __init__(self, numerator, denominator):\n",
        "        self.numerator = numerator\n",
        "        self.denominator = denominator\n",
        "\n",
        "    # Override the __str__ method to display the fraction\n",
        "    def __str__(self):\n",
        "        return f\"{self.numerator}/{self.denominator}\"\n",
        "\n",
        "# Test the class\n",
        "fraction1 = Fraction(3, 4)\n",
        "fraction2 = Fraction(5, 6)\n",
        "\n",
        "print(fraction1)\n",
        "print(fraction2)\n"
      ],
      "metadata": {
        "id": "ck5AGVW1Q0Ww"
      },
      "execution_count": null,
      "outputs": []
    },
    {
      "cell_type": "code",
      "source": [
        "# 10. Operator Overloading for Vector Class to Add Two Vectors\n",
        "\n",
        "class Vector:\n",
        "    def __init__(self, x, y):\n",
        "        self.x = x\n",
        "        self.y = y\n",
        "\n",
        "    # Overload the + operator to add two vectors\n",
        "    def __add__(self, other):\n",
        "        return Vector(self.x + other.x, self.y + other.y)\n",
        "\n",
        "    def __str__(self):\n",
        "        return f\"({self.x}, {self.y})\"\n",
        "\n",
        "# Test the class\n",
        "vector1 = Vector(1, 2)\n",
        "vector2 = Vector(3, 4)\n",
        "\n",
        "result = vector1 + vector2\n",
        "print(\"Sum of Vectors:\", result)\n"
      ],
      "metadata": {
        "id": "G4CzlK97RFvM"
      },
      "execution_count": null,
      "outputs": []
    },
    {
      "cell_type": "code",
      "source": [
        "# 11. Person Class with `greet()` Method\n",
        "\n",
        "class Person:\n",
        "    def __init__(self, name, age):\n",
        "        self.name = name\n",
        "        self.age = age\n",
        "\n",
        "    # Method to greet the person\n",
        "    def greet(self):\n",
        "        print(f\"Hello, my name is {self.name} and I am {self.age} years old.\")\n",
        "\n",
        "# Test the class\n",
        "person1 = Person(\"Anand\", 23)\n",
        "person1.greet()\n"
      ],
      "metadata": {
        "id": "uKoBzXdIRM9a"
      },
      "execution_count": null,
      "outputs": []
    },
    {
      "cell_type": "code",
      "source": [
        "# 12. Student Class with `average_grade()` Method\n",
        "\n",
        "class Student:\n",
        "    def __init__(self, name, grades):\n",
        "        self.name = name\n",
        "        self.grades = grades\n",
        "\n",
        "    # Method to calculate the average grade\n",
        "    def average_grade(self):\n",
        "        return sum(self.grades) / len(self.grades)\n",
        "\n",
        "# Test the class\n",
        "student1 = Student(\"Jaya\", [85, 90, 78, 92])\n",
        "print(f\"Average Grade of {student1.name}: {student1.average_grade():.2f}\")\n"
      ],
      "metadata": {
        "id": "JIGwxB-xRdSi"
      },
      "execution_count": null,
      "outputs": []
    },
    {
      "cell_type": "code",
      "source": [
        "# 13. Rectangle Class with `set_dimensions()` and `area()` Methods\n",
        "\n",
        "class Rectangle:\n",
        "    def __init__(self):\n",
        "        self.width = 0\n",
        "        self.height = 0\n",
        "\n",
        "    # Method to set the dimensions of the rectangle\n",
        "    def set_dimensions(self, width, height):\n",
        "        self.width = width\n",
        "        self.height = height\n",
        "\n",
        "    # Method to calculate the area of the rectangle\n",
        "    def area(self):\n",
        "        return self.width * self.height\n",
        "\n",
        "# Test the class\n",
        "rectangle = Rectangle()\n",
        "rectangle.set_dimensions(5, 10)\n",
        "print(f\"Area of Rectangle: {rectangle.area()}\")  # Output: 50\n"
      ],
      "metadata": {
        "id": "0f-A89QjRl1o"
      },
      "execution_count": null,
      "outputs": []
    },
    {
      "cell_type": "code",
      "source": [
        "# 14. Employee Class with `calculate_salary()` Method,\n",
        "# and Manager Class with Bonus\n",
        "\n",
        "class Employee:\n",
        "    def __init__(self, name, hours_worked, hourly_rate):\n",
        "        self.name = name\n",
        "        self.hours_worked = hours_worked\n",
        "        self.hourly_rate = hourly_rate\n",
        "\n",
        "    # Method to calculate salary\n",
        "    def calculate_salary(self):\n",
        "        return self.hours_worked * self.hourly_rate\n",
        "\n",
        "# Derived Class: Manager\n",
        "class Manager(Employee):\n",
        "    def __init__(self, name, hours_worked, hourly_rate, bonus):\n",
        "        super().__init__(name, hours_worked, hourly_rate)\n",
        "        self.bonus = bonus\n",
        "\n",
        "    # Override the calculate_salary method to include bonus\n",
        "    def calculate_salary(self):\n",
        "        return super().calculate_salary() + self.bonus\n",
        "\n",
        "# Test the classes\n",
        "employee = Employee(\"Anand\", 160, 25)\n",
        "print(f\"Employee Salary: ${employee.calculate_salary()}\")\n",
        "\n",
        "manager = Manager(\"Mohan\", 160, 30, 5000)\n",
        "print(f\"Manager Salary: ${manager.calculate_salary()}\")\n"
      ],
      "metadata": {
        "id": "iHEeTOJyRsZm"
      },
      "execution_count": null,
      "outputs": []
    },
    {
      "cell_type": "markdown",
      "source": [
        "15. Create a class Product with attributes name, price, and quantity. Implement a method total_price() that\n",
        "calculates the total price of the product.\n",
        "\n",
        "\n",
        "16. Create a class Animal with an abstract method sound(). Create two derived classes Cow and Sheep that\n",
        "implement the sound() method.\n",
        "\n",
        "\n",
        "17. Create a class Book with attributes title, author, and year_published. Add a method get_book_info() that\n",
        "returns a formatted string with the book's details.\n",
        "\n",
        "\n",
        "18. Create a class House with attributes address and price. Create a derived class Mansion that adds an\n",
        "attribute number_of_rooms."
      ],
      "metadata": {
        "id": "x0U7oi7CSFof"
      }
    },
    {
      "cell_type": "code",
      "source": [
        "# 15. Product Class with `total_price()` Method\n",
        "\n",
        "class Product:\n",
        "    def __init__(self, name, price, quantity):\n",
        "        self.name = name\n",
        "        self.price = price\n",
        "        self.quantity = quantity\n",
        "\n",
        "    # Method to calculate the total price of the product\n",
        "    def total_price(self):\n",
        "        return self.price * self.quantity\n",
        "\n",
        "# Test the class\n",
        "product = Product(\"Laptop\", 1000, 3)\n",
        "print(f\"Total Price of {product.name}: ${product.total_price()}\")\n"
      ],
      "metadata": {
        "id": "VzzontwAR_Zj"
      },
      "execution_count": null,
      "outputs": []
    },
    {
      "cell_type": "code",
      "source": [
        "# 16. Animal Class with Abstract Method `sound()` and Derived Classes Cow and Sheep\n",
        "\n",
        "from abc import ABC, abstractmethod\n",
        "\n",
        "# Abstract Class Animal\n",
        "class Animal(ABC):\n",
        "    @abstractmethod\n",
        "    def sound(self):\n",
        "        pass\n",
        "\n",
        "# Derived Class Cow\n",
        "class Cow(Animal):\n",
        "    def sound(self):\n",
        "        return \"Moo\"\n",
        "\n",
        "# Derived Class Sheep\n",
        "class Sheep(Animal):\n",
        "    def sound(self):\n",
        "        return \"Baa\"\n",
        "\n",
        "# Test the classes\n",
        "cow = Cow()\n",
        "sheep = Sheep()\n",
        "\n",
        "print(f\"Cow sound: {cow.sound()}\")\n",
        "print(f\"Sheep sound: {sheep.sound()}\")\n"
      ],
      "metadata": {
        "id": "k7C85h7cSM1R"
      },
      "execution_count": null,
      "outputs": []
    },
    {
      "cell_type": "code",
      "source": [
        "# 17. Book Class with `get_book_info()` Method\n",
        "\n",
        "class Book:\n",
        "    def __init__(self, title, author, year_published):\n",
        "        self.title = title\n",
        "        self.author = author\n",
        "        self.year_published = year_published\n",
        "\n",
        "    # Method to return formatted book info\n",
        "    def get_book_info(self):\n",
        "        return f\"Title: {self.title}\\nAuthor: {self.author}\\nYear Published: {self.year_published}\"\n",
        "\n",
        "# Test the class\n",
        "book = Book(\"Python: The Complete Reference\", \"Martin C Brown\", 2001)\n",
        "print(book.get_book_info())\n"
      ],
      "metadata": {
        "id": "cCCO5o4uSP_p"
      },
      "execution_count": null,
      "outputs": []
    },
    {
      "cell_type": "code",
      "source": [
        "# 18. House Class with `address` and `price`, and Derived Class Mansion with `number_of_rooms`\n",
        "\n",
        "# Base Class House\n",
        "class House:\n",
        "    def __init__(self, address, price):\n",
        "        self.address = address\n",
        "        self.price = price\n",
        "\n",
        "# Derived Class Mansion\n",
        "class Mansion(House):\n",
        "    def __init__(self, address, price, number_of_rooms):\n",
        "        super().__init__(address, price)  # Initialize attributes from House class\n",
        "        self.number_of_rooms = number_of_rooms\n",
        "\n",
        "# Test the classes\n",
        "mansion = Mansion(\"158 Shib Chandra Lane\", 9000000, 100)\n",
        "print(f\"Mansion Details:\\nAddress: {mansion.address}\\nPrice: ${mansion.price}\\nNumber of Rooms: {mansion.number_of_rooms}\")\n"
      ],
      "metadata": {
        "id": "C77xNYb2SW_w"
      },
      "execution_count": null,
      "outputs": []
    }
  ]
}